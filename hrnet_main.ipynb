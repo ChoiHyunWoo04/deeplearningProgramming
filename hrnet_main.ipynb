{
 "cells": [
  {
   "cell_type": "markdown",
   "id": "abfb10d0-9f70-4bc6-8ced-eab2bd947cd4",
   "metadata": {},
   "source": [
    "## Import modules"
   ]
  },
  {
   "cell_type": "code",
   "execution_count": 2,
   "id": "c4089f53-008d-43d0-a74a-4bb855386465",
   "metadata": {},
   "outputs": [],
   "source": [
    "import os\n",
    "import numpy as np\n",
    "from tqdm import tqdm\n",
    "from datetime import datetime\n",
    "import matplotlib.pyplot as plt\n",
    "\n",
    "from torchvision.datasets.cifar import CIFAR100\n",
    "from torchvision.transforms import ToTensor\n",
    "\n",
    "from config.models import MODEL_EXTRAS\n",
    "from models.cls_hrnet import get_cls_net\n",
    "\n",
    "import torch\n",
    "import torch.nn as nn\n",
    "from torchinfo import summary\n",
    "from torch.utils.tensorboard import SummaryWriter\n",
    "from torch.utils.data import TensorDataset, DataLoader"
   ]
  },
  {
   "cell_type": "markdown",
   "id": "c57055ac-5f76-4953-914d-1fd8f4f5a356",
   "metadata": {},
   "source": [
    "## Model setting"
   ]
  },
  {
   "cell_type": "code",
   "execution_count": 3,
   "id": "5bcdcbea-2640-4920-b5d9-0c790771eb4a",
   "metadata": {},
   "outputs": [],
   "source": [
    "LOAD_WEIGHT = False # 기존 모델 가중치를 가져올지 여부\n",
    "WEIGHT_PATH = \"./save/20250220_152155/weight/model_epoch_200.pt\" # 기존 모델 가중치 경로"
   ]
  },
  {
   "cell_type": "markdown",
   "id": "958d039b-e0a1-41f8-b2ec-a64d0b7aa0c3",
   "metadata": {},
   "source": [
    "## Device setting"
   ]
  },
  {
   "cell_type": "code",
   "execution_count": 20,
   "id": "8f2a666a-1252-4357-b2fe-5161f55275f8",
   "metadata": {},
   "outputs": [
    {
     "name": "stdout",
     "output_type": "stream",
     "text": [
      "cpu\n"
     ]
    }
   ],
   "source": [
    "os.environ[\"CUDA_DEVICE_ORDER\"]=\"PCI_BUS_ID\"  \n",
    "os.environ[\"CUDA_VISIBLE_DEVICES\"]= \"1\"\n",
    "\n",
    "def get_recommended_device():\n",
    "    if torch.cuda.is_available():\n",
    "        return \"cuda\"\n",
    "    if torch.backends.mps.is_available():\n",
    "        return \"mps\"\n",
    "    return \"cpu\"\n",
    "\n",
    "device = get_recommended_device()\n",
    "print(device)"
   ]
  },
  {
   "cell_type": "markdown",
   "id": "58608490-3b44-4359-8d5e-0f1b5e4c5ebd",
   "metadata": {},
   "source": [
    "## Data setting"
   ]
  },
  {
   "cell_type": "code",
   "execution_count": 18,
   "id": "bdc03104-6873-4261-bb11-e3ababbf14e6",
   "metadata": {},
   "outputs": [
    {
     "name": "stdout",
     "output_type": "stream",
     "text": [
      "Files already downloaded and verified\n",
      "Files already downloaded and verified\n"
     ]
    }
   ],
   "source": [
    "train = CIFAR100(root='./data', train=True, download=True, transform=ToTensor())\n",
    "test = CIFAR100(root='./data', train=False, download=True, transform=ToTensor())\n",
    "\n",
    "train_loader = DataLoader(train, batch_size=32, shuffle=True)\n",
    "test_loader = DataLoader(test, batch_size=32, shuffle=False)"
   ]
  },
  {
   "cell_type": "code",
   "execution_count": 16,
   "id": "0083eb9e-12a9-4f7b-b9f4-cef8ef2d352a",
   "metadata": {
    "scrolled": true
   },
   "outputs": [
    {
     "name": "stdout",
     "output_type": "stream",
     "text": [
      "Dataset CIFAR100\n",
      "    Number of datapoints: 50000\n",
      "    Root location: ./data\n",
      "    Split: Train\n",
      "    StandardTransform\n",
      "Transform: ToTensor()\n",
      "\n",
      "2\n",
      "\n",
      "19\n"
     ]
    }
   ],
   "source": [
    "print(train)\n",
    "print()\n",
    "print(len(train[0]))\n",
    "print()\n",
    "print(train[0][1])"
   ]
  },
  {
   "cell_type": "markdown",
   "id": "7c92b92c-1e56-42d6-a414-8824936d9bae",
   "metadata": {},
   "source": [
    "## Model setting"
   ]
  },
  {
   "cell_type": "code",
   "execution_count": null,
   "id": "60800616-8175-4646-a8fd-7d58dae2a833",
   "metadata": {},
   "outputs": [],
   "source": [
    "class HRNet(nn.Module):\n",
    "    def __init__(self, cfg: dict, backbone_version: str) -> None:\n",
    "        super().__init__()\n",
    "        self.cfg = cfg\n",
    "        self.numeric_convert_block = Numeric_Convert_Block(in_features=cfg[\"numeric_in_features\"])\n",
    "        self.hori_convert_block = Pattern_Convert_Block(in_features=cfg[\"hori_in_feauters\"])\n",
    "        self.verti_convert_block = Pattern_Convert_Block(in_features=cfg[\"verti_in_features\"])\n",
    "        \n",
    "        self.hrformer = HRFormer(self.backbone, cfg[\"in_channels\"]) #hrformer\n",
    "        self.regressor = Regressor(self.backbone[\"STAGE4\"][\"NUM_CHANNELS\"][0], 1) #헤드(디코더)\n",
    "    \n",
    "    def forward(self, x:list) -> torch.Tensor:\n",
    "        input_image_gis, input_image_ant, hori_input, verti_input, numeric_input = x\n",
    "        \n",
    "        # 수치 데이터, 패턴 데이터 -> 컨버터로 500x500으로 변환\n",
    "        hori_convert = self.hori_convert_block(hori_input)\n",
    "        verti_convert = self.verti_convert_block(verti_input)\n",
    "        numeric_convert = self.numeric_convert_block(numeric_input)\n",
    "\n",
    "        # 모든 데이터 concat\n",
    "        con = torch.cat([input_image_gis, input_image_ant, numeric_convert, hori_convert, verti_convert], dim=1)\n",
    "        \n",
    "        y_hrt = self.hrformer(con) # 모델 입력 \n",
    "        y = self.regressor(y_hrt[0]) # 복원\n",
    "\n",
    "        return y\n",
    "\n",
    "\n",
    "model = HRNet(CONFIG, HRT_VERSION).to(device)\n",
    "summary(model)"
   ]
  }
 ],
 "metadata": {
  "kernelspec": {
   "display_name": "Python 3 (ipykernel)",
   "language": "python",
   "name": "python3"
  },
  "language_info": {
   "codemirror_mode": {
    "name": "ipython",
    "version": 3
   },
   "file_extension": ".py",
   "mimetype": "text/x-python",
   "name": "python",
   "nbconvert_exporter": "python",
   "pygments_lexer": "ipython3",
   "version": "3.12.3"
  }
 },
 "nbformat": 4,
 "nbformat_minor": 5
}
