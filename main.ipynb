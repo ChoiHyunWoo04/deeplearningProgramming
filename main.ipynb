{
 "cells": [
  {
   "cell_type": "markdown",
   "id": "abfb10d0-9f70-4bc6-8ced-eab2bd947cd4",
   "metadata": {},
   "source": [
    "## Import modules"
   ]
  },
  {
   "cell_type": "code",
   "execution_count": null,
   "id": "c4089f53-008d-43d0-a74a-4bb855386465",
   "metadata": {},
   "outputs": [],
   "source": [
    "import os\n",
    "import random\n",
    "import numpy as np\n",
    "from tqdm import tqdm\n",
    "from datetime import datetime\n",
    "import matplotlib.pyplot as plt\n",
    "\n",
    "from torchvision.datasets.cifar import CIFAR100\n",
    "from torchvision.transforms import ToTensor\n",
    "\n",
    "from config.config import get_config\n",
    "from models.hrnet import HighResolutionNet\n",
    "\n",
    "import torch\n",
    "import torch.nn as nn\n",
    "import torch.optim as optim\n",
    "from torchinfo import summary\n",
    "from torch.utils.tensorboard import SummaryWriter\n",
    "from torch.utils.data import TensorDataset, DataLoader"
   ]
  },
  {
   "cell_type": "code",
   "execution_count": null,
   "id": "77129a6f-956f-4343-98ca-f537276b399f",
   "metadata": {},
   "outputs": [],
   "source": [
    "# 시드 고정 함수\n",
    "def set_seed(seed=0):\n",
    "    torch.manual_seed(seed)\n",
    "    torch.cuda.manual_seed_all(seed)\n",
    "    np.random.seed(seed)\n",
    "    random.seed(seed)\n",
    "    torch.backends.cudnn.deterministic = True\n",
    "    torch.backends.cudnn.benchmark = False\n",
    "\n",
    "set_seed()"
   ]
  },
  {
   "cell_type": "markdown",
   "id": "c57055ac-5f76-4953-914d-1fd8f4f5a356",
   "metadata": {},
   "source": [
    "## Model setting"
   ]
  },
  {
   "cell_type": "code",
   "execution_count": 3,
   "id": "5bcdcbea-2640-4920-b5d9-0c790771eb4a",
   "metadata": {},
   "outputs": [],
   "source": [
    "DESCRIPTION = \"hrnet w18 experiment()\" # 예시: 실험 내용 기록용(한글 작성시 깨짐)\n",
    "\n",
    "LOAD_WEIGHT = False # 기존 모델 가중치를 가져올지 여부\n",
    "WEIGHT_PATH = \"./save/20250220_152155/weight/model_epoch_200.pt\" # 기존 모델 가중치 경로"
   ]
  },
  {
   "cell_type": "markdown",
   "id": "958d039b-e0a1-41f8-b2ec-a64d0b7aa0c3",
   "metadata": {},
   "source": [
    "## Device setting"
   ]
  },
  {
   "cell_type": "code",
   "execution_count": 4,
   "id": "8f2a666a-1252-4357-b2fe-5161f55275f8",
   "metadata": {},
   "outputs": [
    {
     "name": "stdout",
     "output_type": "stream",
     "text": [
      "cuda\n"
     ]
    }
   ],
   "source": [
    "os.environ[\"CUDA_DEVICE_ORDER\"]=\"PCI_BUS_ID\"  \n",
    "os.environ[\"CUDA_VISIBLE_DEVICES\"]= \"0\"\n",
    "\n",
    "def get_recommended_device():\n",
    "    if torch.cuda.is_available():\n",
    "        return \"cuda\"\n",
    "    if torch.backends.mps.is_available():\n",
    "        return \"mps\"\n",
    "    return \"cpu\"\n",
    "\n",
    "device = get_recommended_device()\n",
    "print(device)"
   ]
  },
  {
   "cell_type": "markdown",
   "id": "58608490-3b44-4359-8d5e-0f1b5e4c5ebd",
   "metadata": {},
   "source": [
    "## Data setting"
   ]
  },
  {
   "cell_type": "code",
   "execution_count": 5,
   "id": "bdc03104-6873-4261-bb11-e3ababbf14e6",
   "metadata": {},
   "outputs": [],
   "source": [
    "train = CIFAR100(root='./data', train=True, download=True, transform=ToTensor())\n",
    "test = CIFAR100(root='./data', train=False, download=True, transform=ToTensor())\n",
    "\n",
    "train_loader = DataLoader(train, batch_size=32, shuffle=True)\n",
    "test_loader = DataLoader(test, batch_size=32, shuffle=False)"
   ]
  },
  {
   "cell_type": "code",
   "execution_count": 6,
   "id": "0083eb9e-12a9-4f7b-b9f4-cef8ef2d352a",
   "metadata": {
    "scrolled": true
   },
   "outputs": [
    {
     "name": "stdout",
     "output_type": "stream",
     "text": [
      "Dataset CIFAR100\n",
      "    Number of datapoints: 50000\n",
      "    Root location: ./data\n",
      "    Split: Train\n",
      "    StandardTransform\n",
      "Transform: ToTensor()\n",
      "\n",
      "2\n",
      "\n",
      "19\n"
     ]
    }
   ],
   "source": [
    "print(train)\n",
    "print()\n",
    "print(len(train[0]))\n",
    "print()\n",
    "print(train[0][1])"
   ]
  },
  {
   "cell_type": "markdown",
   "id": "7c92b92c-1e56-42d6-a414-8824936d9bae",
   "metadata": {},
   "source": [
    "## Model setting"
   ]
  },
  {
   "cell_type": "code",
   "execution_count": 7,
   "id": "60800616-8175-4646-a8fd-7d58dae2a833",
   "metadata": {
    "scrolled": true
   },
   "outputs": [
    {
     "name": "stdout",
     "output_type": "stream",
     "text": [
      "=> merge config from config/hrnet_w18.yaml\n",
      "AMP_OPT_LEVEL: O1\n",
      "BASE: ['']\n",
      "DATA:\n",
      "  BATCH_SIZE: 128\n",
      "  CACHE_MODE: part\n",
      "  DATASET: cifar\n",
      "  DATA_PATH: \n",
      "  IMG_SIZE: 32\n",
      "  INTERPOLATION: bicubic\n",
      "  NUM_WORKERS: 4\n",
      "  PIN_MEMORY: True\n",
      "  ZIP_MODE: False\n",
      "EVAL_MODE: False\n",
      "LOCAL_RANK: 0\n",
      "MODEL:\n",
      "  DROP_PATH_RATE: 0.1\n",
      "  DROP_RATE: 0.0\n",
      "  HRNET:\n",
      "    DROP_PATH_RATE: 0.2\n",
      "    STAGE1:\n",
      "      BLOCK: BOTTLENECK\n",
      "      NUM_BLOCKS: [4]\n",
      "      NUM_BRANCHES: 1\n",
      "      NUM_CHANNELS: [64]\n",
      "      NUM_MODULES: 1\n",
      "    STAGE2:\n",
      "      BLOCK: BASIC\n",
      "      NUM_BLOCKS: [4, 4]\n",
      "      NUM_BRANCHES: 2\n",
      "      NUM_CHANNELS: [18, 36]\n",
      "      NUM_MODULES: 1\n",
      "    STAGE3:\n",
      "      BLOCK: BASIC\n",
      "      NUM_BLOCKS: [4, 4, 4]\n",
      "      NUM_BRANCHES: 3\n",
      "      NUM_CHANNELS: [18, 36, 72]\n",
      "      NUM_MODULES: 4\n",
      "    STAGE4:\n",
      "      BLOCK: BASIC\n",
      "      NUM_BLOCKS: [4, 4, 4, 4]\n",
      "      NUM_BRANCHES: 4\n",
      "      NUM_CHANNELS: [18, 36, 72, 144]\n",
      "      NUM_MODULES: 3\n",
      "  LABEL_SMOOTHING: 0.1\n",
      "  NAME: hrnet_w18\n",
      "  NUM_CLASSES: 1000\n",
      "  RESUME: \n",
      "  RESUME_ONLY_MODEL: False\n",
      "  TYPE: hrnet\n",
      "OUTPUT: hrnet_w18\\default\n",
      "PRINT_FREQ: 10\n",
      "SAVE_FREQ: 1\n",
      "SEED: 0\n",
      "TAG: default\n",
      "TEST:\n",
      "  CROP: True\n",
      "THROUGHPUT_MODE: False\n",
      "TRAIN:\n",
      "  ACCUMULATION_STEPS: 0\n",
      "  AUTO_RESUME: True\n",
      "  BASE_LR: 0.0005\n",
      "  CLIP_GRAD: 5.0\n",
      "  EPOCHS: 300\n",
      "  LR_SCHEDULER:\n",
      "    DECAY_EPOCHS: 30\n",
      "    DECAY_RATE: 0.1\n",
      "    NAME: cosine\n",
      "  MIN_LR: 5e-06\n",
      "  OPTIMIZER:\n",
      "    BETAS: (0.9, 0.999)\n",
      "    EPS: 1e-08\n",
      "    MOMENTUM: 0.9\n",
      "    NAME: adamw\n",
      "  START_EPOCH: 0\n",
      "  USE_CHECKPOINT: False\n",
      "  WARMUP_EPOCHS: 20\n",
      "  WARMUP_LR: 5e-07\n",
      "  WEIGHT_DECAY: 0.05\n"
     ]
    }
   ],
   "source": [
    "# 기본 config 불러오기\n",
    "class Args:\n",
    "    cfg = \"config/hrnet_w18.yaml\"\n",
    "    opts = None\n",
    "    batch_size = None\n",
    "    data_path = None\n",
    "    zip = None\n",
    "    cache_mode = None\n",
    "    resume = None\n",
    "    accumulation_steps = None\n",
    "    use_checkpoint = None\n",
    "    output = None\n",
    "    tag = None\n",
    "    eval = None\n",
    "    throughput = None\n",
    "    local_rank = 0\n",
    "\n",
    "args = Args()\n",
    "cfg = get_config(args)\n",
    "\n",
    "print(cfg)"
   ]
  },
  {
   "cell_type": "code",
   "execution_count": null,
   "id": "ff0519e7-4a48-4038-b4cf-d21eed9aec4f",
   "metadata": {},
   "outputs": [],
   "source": [
    "model = HighResolutionNet(cfg.MODEL.HRNET, num_classes=100)  # CIFAR10은 10 classes\n",
    "model = model.to(device)\n",
    "\n",
    "# 기존의 모델 로드할 경우\n",
    "if LOAD_WEIGHT: \n",
    "    checkpoint = torch.load(WEIGHT_PATH)\n",
    "    model.load_state_dict(checkpoint)\n",
    "    model = model.to(device)\n",
    "    model.eval()\n",
    "\n",
    "# Loss and optimizer\n",
    "criterion = nn.CrossEntropyLoss()\n",
    "optimizer = optim.AdamW(model.parameters(), lr=cfg.TRAIN.BASE_LR, weight_decay=cfg.TRAIN.WEIGHT_DECAY)\n",
    "\n",
    "# Scheduler\n",
    "scheduler = optim.lr_scheduler.CosineAnnealingLR(optimizer, T_max=cfg.TRAIN.EPOCHS)"
   ]
  },
  {
   "cell_type": "code",
   "execution_count": 9,
   "id": "3fb35306-31c9-4ac2-8a92-4a8d3f098482",
   "metadata": {},
   "outputs": [],
   "source": [
    "timestamp = datetime.now().strftime('%Y%m%d_%H%M%S')\n",
    "\n",
    "save_folder = f\"./save/{timestamp}\" \n",
    "weight_folder = f\"./save/{timestamp}/weight\"\n",
    "\n",
    "os.makedirs(weight_folder, exist_ok=True) #현재 시간으로 폴더 생성\n",
    "log_file_path = os.path.join(save_folder, 'log.txt')\n",
    "\n",
    "# log.txt에 모델 정보 기록\n",
    "with open(log_file_path, 'a') as log_file:\n",
    "    log_file.write('model: hrnet_w18\\n')\n",
    "    log_file.write(f'description: {DESCRIPTION}\\n')"
   ]
  },
  {
   "cell_type": "code",
   "execution_count": 10,
   "id": "2ee55e85-3400-4276-a469-558d6e83dd5f",
   "metadata": {},
   "outputs": [
    {
     "name": "stderr",
     "output_type": "stream",
     "text": [
      "Epoch 1/300 - Train: 100%|█████████████████████████████████████████████████████████| 1563/1563 [05:53<00:00,  4.42it/s]\n",
      "Epoch 1/300 - Valid: 100%|███████████████████████████████████████████████████████████| 313/313 [00:16<00:00, 19.20it/s]\n"
     ]
    },
    {
     "name": "stdout",
     "output_type": "stream",
     "text": [
      "Epoch [1/300] Train Loss: 4.0980, Train Acc: 7.59% Valid Loss: 3.8590, Valid Acc: 10.37%\n"
     ]
    },
    {
     "name": "stderr",
     "output_type": "stream",
     "text": [
      "Epoch 2/300 - Train: 100%|█████████████████████████████████████████████████████████| 1563/1563 [05:53<00:00,  4.42it/s]\n",
      "Epoch 2/300 - Valid: 100%|███████████████████████████████████████████████████████████| 313/313 [00:16<00:00, 19.26it/s]"
     ]
    },
    {
     "name": "stdout",
     "output_type": "stream",
     "text": [
      "Epoch [2/300] Train Loss: 3.8116, Train Acc: 10.96% Valid Loss: 3.6081, Valid Acc: 14.79%\n"
     ]
    },
    {
     "name": "stderr",
     "output_type": "stream",
     "text": [
      "\n"
     ]
    }
   ],
   "source": [
    "# Metrics tracking\n",
    "train_losses, test_losses = [], []\n",
    "train_accuracies, test_accuracies = [], []\n",
    "\n",
    "for epoch in range(cfg.TRAIN.EPOCHS):\n",
    "    model.train()\n",
    "    running_loss, correct, total = 0.0, 0, 0\n",
    "    for inputs, labels in tqdm(train_loader, desc=f\"Epoch {epoch+1}/{cfg.TRAIN.EPOCHS} - Train\"):\n",
    "        inputs, labels = inputs.to(device), labels.to(device)\n",
    "\n",
    "        optimizer.zero_grad()\n",
    "        outputs = model(inputs)\n",
    "        loss = criterion(outputs, labels)\n",
    "        loss.backward()\n",
    "        optimizer.step()\n",
    "\n",
    "        running_loss += loss.item() * inputs.size(0)\n",
    "        _, predicted = outputs.max(1)\n",
    "        total += labels.size(0)\n",
    "        correct += predicted.eq(labels).sum().item()\n",
    "\n",
    "    train_loss = running_loss / total\n",
    "    train_acc = 100. * correct / total\n",
    "    train_losses.append(train_loss)\n",
    "    train_accuracies.append(train_acc)\n",
    "\n",
    "    # Validation\n",
    "    model.eval()\n",
    "    val_loss, correct, total = 0.0, 0, 0\n",
    "    with torch.no_grad():\n",
    "        for inputs, labels in tqdm(test_loader, desc=f\"Epoch {epoch+1}/{cfg.TRAIN.EPOCHS} - Valid\"):\n",
    "            inputs, labels = inputs.to(device), labels.to(device)\n",
    "            outputs = model(inputs)\n",
    "            loss = criterion(outputs, labels)\n",
    "\n",
    "            val_loss += loss.item() * inputs.size(0)\n",
    "            _, predicted = outputs.max(1)\n",
    "            total += labels.size(0)\n",
    "            correct += predicted.eq(labels).sum().item()\n",
    "\n",
    "    val_loss = val_loss / total\n",
    "    val_acc = 100. * correct / total\n",
    "    test_losses.append(val_loss)\n",
    "    test_accuracies.append(val_acc)\n",
    "\n",
    "    scheduler.step()\n",
    "\n",
    "    print(f\"Epoch [{epoch+1}/{cfg.TRAIN.EPOCHS}] \"\n",
    "          f\"Train Loss: {train_loss:.4f}, Train Acc: {train_acc:.2f}% \"\n",
    "          f\"Valid Loss: {val_loss:.4f}, Valid Acc: {val_acc:.2f}%\")"
   ]
  },
  {
   "cell_type": "code",
   "execution_count": 12,
   "id": "a18b5ee2-625b-4b4f-a8f8-9b85a77e020d",
   "metadata": {
    "scrolled": true
   },
   "outputs": [
    {
     "data": {
      "image/png": "[encoded data removed]",
      "text/plain": [
       "<Figure size 1200x500 with 2 Axes>"
      ]
     },
     "metadata": {},
     "output_type": "display_data"
    }
   ],
   "source": [
    "# Plotting\n",
    "epochs = range(1, cfg.TRAIN.EPOCHS + 1)\n",
    "\n",
    "plt.figure(figsize=(12, 5))\n",
    "plt.subplot(1, 2, 1)\n",
    "plt.plot(epochs, train_losses, label='Train Loss')\n",
    "plt.plot(epochs, test_losses, label='Valid Loss')\n",
    "plt.xlabel('Epoch')\n",
    "plt.ylabel('Loss')\n",
    "plt.title('Loss over Epochs')\n",
    "plt.legend()\n",
    "\n",
    "plt.subplot(1, 2, 2)\n",
    "plt.plot(epochs, train_accuracies, label='Train Accuracy')\n",
    "plt.plot(epochs, test_accuracies, label='Valid Accuracy')\n",
    "plt.xlabel('Epoch')\n",
    "plt.ylabel('Accuracy (%)')\n",
    "plt.title('Accuracy over Epochs')\n",
    "plt.legend()\n",
    "\n",
    "plt.tight_layout()\n",
    "plt.savefig(f'{save_folder}/loss&accuracy.png')\n",
    "plt.show()"
   ]
  },
  {
   "cell_type": "code",
   "execution_count": 13,
   "id": "720e6bce-8599-472c-8e55-2e2d8ceaa1ed",
   "metadata": {},
   "outputs": [],
   "source": [
    "if(LOAD_WEIGHT==False):\n",
    "    MODEL_PATH = os.path.join(weight_folder, \"hrnet_test.pt\")\n",
    "    torch.save(model.state_dict(), MODEL_PATH)"
   ]
  },
  {
   "cell_type": "code",
   "execution_count": null,
   "id": "a833347c-4f43-413a-9cf8-dcaf404b2754",
   "metadata": {},
   "outputs": [],
   "source": []
  }
 ],
 "metadata": {
  "kernelspec": {
   "display_name": "Python 3 (ipykernel)",
   "language": "python",
   "name": "python3"
  },
  "language_info": {
   "codemirror_mode": {
    "name": "ipython",
    "version": 3
   },
   "file_extension": ".py",
   "mimetype": "text/x-python",
   "name": "python",
   "nbconvert_exporter": "python",
   "pygments_lexer": "ipython3",
   "version": "3.10.0"
  }
 },
 "nbformat": 4,
 "nbformat_minor": 5
}
